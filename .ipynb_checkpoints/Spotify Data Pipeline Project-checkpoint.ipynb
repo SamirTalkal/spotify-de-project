{
 "cells": [
  {
   "cell_type": "code",
   "execution_count": 1,
   "id": "52f66582-5ee4-44ce-9984-5c21323c8994",
   "metadata": {},
   "outputs": [
    {
     "name": "stdout",
     "output_type": "stream",
     "text": [
      "Collecting spotipy\n",
      "  Downloading spotipy-2.24.0-py3-none-any.whl.metadata (4.9 kB)\n",
      "Collecting redis>=3.5.3 (from spotipy)\n",
      "  Downloading redis-5.0.8-py3-none-any.whl.metadata (9.2 kB)\n",
      "Requirement already satisfied: requests>=2.25.0 in /opt/anaconda3/lib/python3.11/site-packages (from spotipy) (2.31.0)\n",
      "Requirement already satisfied: urllib3>=1.26.0 in /opt/anaconda3/lib/python3.11/site-packages (from spotipy) (2.0.7)\n",
      "Requirement already satisfied: charset-normalizer<4,>=2 in /opt/anaconda3/lib/python3.11/site-packages (from requests>=2.25.0->spotipy) (2.0.4)\n",
      "Requirement already satisfied: idna<4,>=2.5 in /opt/anaconda3/lib/python3.11/site-packages (from requests>=2.25.0->spotipy) (3.4)\n",
      "Requirement already satisfied: certifi>=2017.4.17 in /opt/anaconda3/lib/python3.11/site-packages (from requests>=2.25.0->spotipy) (2024.2.2)\n",
      "Downloading spotipy-2.24.0-py3-none-any.whl (30 kB)\n",
      "Downloading redis-5.0.8-py3-none-any.whl (255 kB)\n",
      "\u001b[2K   \u001b[90m━━━━━━━━━━━━━━━━━━━━━━━━━━━━━━━━━━━━━━━━\u001b[0m \u001b[32m255.6/255.6 kB\u001b[0m \u001b[31m2.6 MB/s\u001b[0m eta \u001b[36m0:00:00\u001b[0ma \u001b[36m0:00:01\u001b[0m\n",
      "\u001b[?25hInstalling collected packages: redis, spotipy\n",
      "Successfully installed redis-5.0.8 spotipy-2.24.0\n"
     ]
    }
   ],
   "source": [
    "!pip install spotipy"
   ]
  },
  {
   "cell_type": "code",
   "execution_count": 2,
   "id": "a0bb44ca-49be-4245-b3ab-8f7d513e8ba5",
   "metadata": {},
   "outputs": [],
   "source": [
    "import spotipy\n",
    "from spotipy.oauth2 import SpotifyClientCredentials"
   ]
  },
  {
   "cell_type": "code",
   "execution_count": 3,
   "id": "906467dc-36aa-45b3-8d11-29824818022c",
   "metadata": {},
   "outputs": [],
   "source": [
    "client_credentials_manager=SpotifyClientCredentials(client_id=\"4c13f82727684b9890c78105bdc2f03f\", client_secret=\"e8d812cb6acd45ad82465bc1e17e7d72\")"
   ]
  },
  {
   "cell_type": "code",
   "execution_count": null,
   "id": "84117854-b2f8-458e-bbf3-4b9ac73fe599",
   "metadata": {},
   "outputs": [],
   "source": [
    "sp=spotipy.Spotify(client_credentials_manager=client_credentials_manager)"
   ]
  }
 ],
 "metadata": {
  "kernelspec": {
   "display_name": "Python 3 (ipykernel)",
   "language": "python",
   "name": "python3"
  },
  "language_info": {
   "codemirror_mode": {
    "name": "ipython",
    "version": 3
   },
   "file_extension": ".py",
   "mimetype": "text/x-python",
   "name": "python",
   "nbconvert_exporter": "python",
   "pygments_lexer": "ipython3",
   "version": "3.11.7"
  }
 },
 "nbformat": 4,
 "nbformat_minor": 5
}
